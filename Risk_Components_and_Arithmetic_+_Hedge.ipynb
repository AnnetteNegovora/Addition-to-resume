{
  "nbformat": 4,
  "nbformat_minor": 0,
  "metadata": {
    "colab": {
      "provenance": []
    },
    "kernelspec": {
      "display_name": "Python 3",
      "name": "python3"
    },
    "language_info": {
      "name": "python"
    }
  },
  "cells": [
    {
      "cell_type": "markdown",
      "metadata": {
        "id": "cSMqbzuXlr_o"
      },
      "source": [
        "# 1 Компоненты кредитного риска"
      ]
    },
    {
      "cell_type": "markdown",
      "metadata": {
        "id": "ZTC6CuRzBbTH"
      },
      "source": [
        "## 1.1 Определения и обозначения\n",
        "\n",
        "**Кредитный риск** - событийный вид риска. \n",
        "\n",
        "Событие-триггер -- **дефолт**, под которым типично понимается отказ и неспособность исполнять свои финансовые обязательства по договору. \n",
        "\n",
        "Событие дефолта приводит к возникновению **кредитных потерь**.\n",
        "\n",
        "\n",
        "**У кредитного риска отдельного кредита есть следующие атрибуты**:\n",
        "\n",
        "* $t$ - текущий момент времени; момент оценки риска.\n",
        "\n",
        "* $h >0$  - горизонт риска; будущий период, в течение которого кредитор подвержен риску дефолта; чаще всего ограничен сроком кредитного договора, но бывают и нюансы (например, бесрочная кредитная линия) \n",
        "\n",
        "* $\\tau$ - момент дефолта, случайное событие в пределах горизонта риска.\n",
        "\n",
        "* $PD_t (h) = P (\\tau < t + h)$ (probability of default) - вероятность дефолта заемщика в течение  горизонта риска; может задаваться по-разному и является атрибутом модели; неубывающая функция распределения времени до дефолта.\n",
        "\n",
        "* $SF_t(h) = 1 - PD_t(h)$ (survival function) - функция \"дожития\"; вероятность НЕ допустить дефолт на горизонте $h$.\n",
        "\n",
        "* $EAD(\\tau)$ (exposure-at-default) - экспозиция при дефолте; предельный уровень потерь, с которым вероятно предстоит столкнуться в случае объявления дефолта заемщиком в момент времени $\\tau$; обычно определяется как размер законного требования к заемщику (условия контракта, нормы закона). Может быть как детерминированным, так и случайным.\n",
        "\n",
        "* $LGD(\\tau)$ (loss-given-default) - доля фактическая доля понесенных потерь относительно экспозиции; определяется с учетом обеспечения или очередности прав требований по обязательствам. Типично случайна, \n",
        "и в момент $\\tau$ часто используется оценка, т.к. фактическое значение может быть устрановленно существенно позже.\n",
        "\n",
        "**Механизм развития дефолта по кредиту**: \n",
        "\n",
        "1. Произошел ли дефолт на горизонте $h$? Если нет, то кредитные потери равны 0. \n",
        "2. Если да, тогда в какой момент $\\tau$ произошел дефолт?\n",
        "3. Какая уровень экспозиции к риску дефолта $EAD$ был в момент $\\tau$?\n",
        "4. Какой уровень фактических потерь $LGD$ понесен в результате дефолта\n",
        "\n",
        "**Функцию (случайную) кредитных потерь по одному кредиту можно записать в следующем виде**:\n",
        "\n",
        "$$L(\\tau) = I(\\tau< t+h) \\cdot EAD(\\tau) \\cdot LGD(\\tau),$$\n",
        "\n",
        "где $I(\\tau< t+h)$ - индикатор дефолта на горизонте $h$ и имеет распределение Бернулли $B_{PD_t(h)}$.\n",
        "\n",
        "**Функцию (случайную) кредитных потерь по портфелю, состоящему из** $N$ **кредитов, можно записать в следующем виде:**\n",
        "\n",
        "$$L^P(\\tau) = \\sum_{n = 1,\\ldots, N} [I(\\tau_n< t+h) \\cdot EAD_n(\\tau) \\cdot LGD_n(\\tau)],$$\n",
        "\n",
        "!!! В данном курсе:\n",
        "\n",
        "* подробно разбираемся с моделированием и оценкой $PD$\n",
        "* рассматриваем случаи детерминированных $EAD$ (например, обыкновенные кредиты или облигации) и практикуемся в ее определении в момент дефолта\n",
        "* $LGD$ рассматриваем как экзогенно заданную детерминированную или случайную величину\n",
        "* также изучаем влияние корреляции дефолтов $\\rho$ на портфельный кредитный риск (распределение убытков и $VaR$).\n",
        "\n"
      ]
    },
    {
      "cell_type": "markdown",
      "metadata": {
        "id": "Xkg6jfbPRa9_"
      },
      "source": [
        "## 1.2 Арифметика PD\n",
        "\n",
        "* Дискретная модель\n",
        "  - дефолты наблюдаются только в определенные моменты времени в течение горизонта риска (напримере, только в моменты очередных платежей по кредиту); \n",
        "  - $PD_t(h) =\\sum_{t_i < h} P_t(\\tau = t_i) =  \\sum_{t_i < h} P_t(\\tau = t_i|\\tau > t_{i-1}) [1 - P_t(\\tau  \\leq t_ {i-1})] = \\sum_{t_i < h} P_t(\\tau = t_i|\\tau > t_{i-1}) SF_t(t_{i-1} - t)$\n",
        "  \n",
        "   т.е. сумма вероятностей столкнуться с дефолтом в очередную дату; по формуле полной вероятности;\n",
        "  - может задаваться:\n",
        "    - как точками распределения $PD_t(t_i -t)$, \n",
        "    - так и плотностью (маржинальными вероятностями) $P(\\tau = t_i)$, \n",
        "    - так и условной плотностью (форвардными вероятностями) $P(\\tau = t_i| \\tau >t_{i-1})$.  \n",
        "\n",
        "* Непрерывная модель \n",
        "  - дефолты могут возникать в любой момент времени\n",
        "  - центральный объект - интенсивность дефолта $\\lambda_t(x)$, а $PD_t(h) = 1 - e^{-\\int_{0}^h \\lambda_t(x)dx}$ \n",
        "  - $\\lambda_t(x)$ (hazard function) - условная плотность дефолта в момент $x$ при условии, что до $x$ дефолт не произошел, т.е. $P_t(\\tau \\in (t+x, t+x +dx) | \\tau > t+x) \\approx \\lambda_t(x) dx $.\n",
        "  - $\\lambda_t(x)$  - можно грубо интерпретировать как количество дефолтов на единицу времени в последовательности кредитов. \n",
        "\n",
        "* Гибрид - интерполированная дискретная модель\n",
        "  - косочно-постоянная функция $\\lambda (h)$: $P(\\tau = t_i| \\tau >t_{i-1}) = 1 - e^{-\\sum_{i} \\lambda_i \\cdot(t_i - t_{i-1})}$\n",
        "  - другая функция, например, сплайновая фунцкия.\n"
      ]
    },
    {
      "cell_type": "markdown",
      "metadata": {
        "id": "ENvxDg1Q8Ez4"
      },
      "source": [
        "### Задача 1\n",
        "\n",
        "Известно, что форвардная однолетняя вероятнось дефолта заемщика постоянна и равна 2.5%. Заемщику выдан трехлетний кредит. Определите вероятность того, что заемщик допустить дефолт в течение двух последний лет кредита.\n",
        "\n",
        "(2 балла)\n",
        "\n"
      ]
    },
    {
      "cell_type": "code",
      "metadata": {
        "colab": {
          "base_uri": "https://localhost:8080/"
        },
        "id": "WarYVXY09gLA",
        "outputId": "aa70e98a-5794-4d2b-fa8c-80e9f154892e"
      },
      "source": [
        "# Решение и альтернативные ответы\n",
        "\n",
        "# Сумма маржинальных вероятностей дефолта в течение второго и третьего годов \n",
        "\n",
        "PD_1 = 0.025\n",
        "PD_2 = (1 - PD_1)*PD_1\n",
        "PD_3 = (1 - PD_1 - PD_2)*PD_1\n",
        "PD_3 = (1 - PD_1)*(1 - PD_1)*PD_1\n",
        "\n",
        "print('''Вероятность дефолта в течение двух последних лет контракта = {:.2%}, \n",
        "маржинальная на второй года = {:.2%}, \n",
        "маржинальная на год 3 = {:.2%}'''.format(PD_2 + PD_3, PD_2, PD_3))"
      ],
      "execution_count": null,
      "outputs": [
        {
          "output_type": "stream",
          "name": "stdout",
          "text": [
            "Вероятность дефолта в течение двух последних лет контракта = 4.81%, \n",
            "маржинальная на второй года = 2.44%, \n",
            "маржинальная на год 3 = 2.38%\n"
          ]
        }
      ]
    },
    {
      "cell_type": "markdown",
      "metadata": {
        "id": "1tFz0qbx8lpx"
      },
      "source": [
        "### Задача 2\n",
        "\n",
        "Функция интенсивности дефолта заемщика имеет следующий вид:\n",
        "\n",
        "$$\\lambda(x) = 0.09 -0.07\\cdot e^{- 0.9*x} $$\n",
        "\n",
        "Опеределите следующие вероятности: вероятность дефолта заемщика в течение первого года, а также маржинальную и форвардные вероятности дефолта во втором полугодии.   \n",
        "\n",
        "(2 балла)"
      ]
    },
    {
      "cell_type": "code",
      "metadata": {
        "colab": {
          "base_uri": "https://localhost:8080/",
          "height": 778
        },
        "id": "F5Wj-Y0uIQxo",
        "outputId": "c7a2971d-2d28-4290-f6a8-825544dffd7f"
      },
      "source": [
        "import numpy as np\n",
        "import matplotlib.pyplot as plt\n",
        "import scipy.integrate as integrate\n",
        "\n",
        "hzr_fun = np.vectorize( lambda x: 0.09 - 0.07*np.exp(-0.9*x)) # x - выражен в годах\n",
        "pd_fun = np.vectorize(lambda x: 1 - np.exp(- integrate.quad(hzr_fun, 0, x)[0]))\n",
        "pd_fun_mod = np.vectorize(lambda x,y: 1 - np.exp(- integrate.quad(hzr_fun, x, y)[0]))\n",
        "\n",
        "\n",
        "# Если хочется посмотреть на графике\n",
        "terms = np.arange(0, 1.5, 0.5)\n",
        "\n",
        "plt.plot(terms, hzr_fun(terms), label = 'Интенсивность дефолтов')\n",
        "plt.legend(), plt.grid()\n",
        "plt.show()\n",
        "\n",
        "plt.plot(terms, pd_fun(terms), '-r*' , label = 'Функция распределения времени до дефолта')\n",
        "plt.legend(), plt.grid()\n",
        "plt.show()\n",
        "\n",
        "plt.plot(terms[1:], pd_fun(terms[1:]) - pd_fun(terms[:-1]), '-*', label = 'Маржинальные PD')\n",
        "plt.plot(terms[1:], (pd_fun(terms[1:]) - pd_fun(terms[:-1]))/(1 - pd_fun(terms[:-1])), '-*', label = 'Форвардные PD')\n",
        "plt.legend(), plt.grid()\n",
        "plt.show\n",
        "\n",
        "print('PD_cum(1) = {:.2%}, PD_mrg = {:.2%}, PD_frw = {:.2%}, PD_frw_mod = {:.2%}'.format(pd_fun(1), pd_fun(1) - pd_fun(0.5), (pd_fun(1) - pd_fun(0.5))/(1 - pd_fun(0.5)), pd_fun_mod(0.5, 1)))"
      ],
      "execution_count": null,
      "outputs": [
        {
          "output_type": "display_data",
          "data": {
            "image/png": "[encoded data removed]",
            "text/plain": [
              "<Figure size 432x288 with 1 Axes>"
            ]
          },
          "metadata": {
            "needs_background": "light"
          }
        },
        {
          "output_type": "display_data",
          "data": {
            "image/png": "[encoded data removed]",
            "text/plain": [
              "<Figure size 432x288 with 1 Axes>"
            ]
          },
          "metadata": {
            "needs_background": "light"
          }
        },
        {
          "output_type": "stream",
          "name": "stdout",
          "text": [
            "PD_cum(1) = 4.29%, PD_mrg = 2.62%, PD_frw = 2.67%, PD_frw_mod = 2.67%\n"
          ]
        },
        {
          "output_type": "display_data",
          "data": {
            "image/png": "[encoded data removed]",
            "text/plain": [
              "<Figure size 432x288 with 1 Axes>"
            ]
          },
          "metadata": {
            "needs_background": "light"
          }
        }
      ]
    },
    {
      "cell_type": "markdown",
      "metadata": {
        "id": "aHDADKqd8mAR"
      },
      "source": [
        "### Задача 3\n",
        "\n",
        "Известно, что заемщик может объявить дефолт каждые полгода. В таблице приведены маржинальные вероятности  дефолтов для каждой возможной даты в течение ближайших двух лет (см. таблицу):\n",
        "\n",
        "| date   | PD |\n",
        "|:--------|:----|\n",
        "|01-01-2011| 2.50%|\n",
        "|01-07-2011| 2.35%|\n",
        "|01-01-2012 | 2.22%|\n",
        "|01-07-2012| 2.17%|\n",
        "\n",
        "Предполагая постоянство интенсивности дефолтов в течение каждого периода, определите интенсивность дефолтов в первом полугодии 2012 года и вероятность дефолта к 01-04-2012 года. При расчетах исходить из того, что в году 365 дней.\n",
        "\n",
        "(3 балла)"
      ]
    },
    {
      "cell_type": "code",
      "metadata": {
        "colab": {
          "base_uri": "https://localhost:8080/",
          "height": 454
        },
        "id": "R2tzgf0kNEYI",
        "outputId": "ae2d2dd2-24af-4f1a-d9a0-1f075ba905fe"
      },
      "source": [
        "import numpy as np\n",
        "import pandas as pd\n",
        "import matplotlib.pyplot as plt\n",
        "\n",
        "dates =np.arange('2010-07', '2013-01', dtype='datetime64[6M]').astype('datetime64[D]') \n",
        "pd_cum  = np.array([0, .025, .0235, .0222, .0217]).cumsum() # Значения функции распределения в даты\n",
        "plt.plot(dates, pd_cum, '-*', label = 'Известные точки функции распределения')\n",
        "plt.grid(), plt.show()\n",
        "\n",
        "pd_fwd = (pd_cum[1:] - pd_cum[:-1])/(1 - pd_cum[:-1]) # значения форвардных PD на каждом участке\n",
        "terms = (dates[1:] - dates[:-1]).astype('float')/365 # значения сроков (x) между платежами в годах для вычисления интенсивностей\n",
        "hzr_imp =  - np.log(1 - pd_fwd)/terms # implied hazards для кусочно-постоянной интенсивности, решаем уравнение для каждого периода относительно интенсивности\n",
        "display(pd.DataFrame({'dates':dates[1:], 'hzrds': hzr_imp, 'pd_fwd': pd_fwd, 'pd_cum': pd_cum[1:]}))\n",
        "\n",
        "# Срок до 01-04-2012 c ближайшего прошлого момента \n",
        "term_1 = (np.datetime64('2012-04-01') - np.datetime64('2012-01-01')).astype('float')/365\n",
        "print('Интенсивность в первом полугодии 2012 года = {:.4f},\\nвероятность дефолта к 01-04-2012 = {:.2%}'.format(hzr_imp[-1], pd_cum[-2] + (1 - pd_cum[-2])*(1 - np.exp(-hzr_imp[-1]*term_1))))"
      ],
      "execution_count": null,
      "outputs": [
        {
          "output_type": "display_data",
          "data": {
            "image/png": "[encoded data removed]",
            "text/plain": [
              "<Figure size 432x288 with 1 Axes>"
            ]
          },
          "metadata": {
            "needs_background": "light"
          }
        },
        {
          "output_type": "display_data",
          "data": {
            "text/html": [
              "<div>\n",
              "<style scoped>\n",
              "    .dataframe tbody tr th:only-of-type {\n",
              "        vertical-align: middle;\n",
              "    }\n",
              "\n",
              "    .dataframe tbody tr th {\n",
              "        vertical-align: top;\n",
              "    }\n",
              "\n",
              "    .dataframe thead th {\n",
              "        text-align: right;\n",
              "    }\n",
              "</style>\n",
              "<table border=\"1\" class=\"dataframe\">\n",
              "  <thead>\n",
              "    <tr style=\"text-align: right;\">\n",
              "      <th></th>\n",
              "      <th>dates</th>\n",
              "      <th>hzrds</th>\n",
              "      <th>pd_fwd</th>\n",
              "      <th>pd_cum</th>\n",
              "    </tr>\n",
              "  </thead>\n",
              "  <tbody>\n",
              "    <tr>\n",
              "      <th>0</th>\n",
              "      <td>2011-01-01</td>\n",
              "      <td>0.050223</td>\n",
              "      <td>0.025000</td>\n",
              "      <td>0.0250</td>\n",
              "    </tr>\n",
              "    <tr>\n",
              "      <th>1</th>\n",
              "      <td>2011-07-01</td>\n",
              "      <td>0.049200</td>\n",
              "      <td>0.024103</td>\n",
              "      <td>0.0485</td>\n",
              "    </tr>\n",
              "    <tr>\n",
              "      <th>2</th>\n",
              "      <td>2012-01-01</td>\n",
              "      <td>0.046831</td>\n",
              "      <td>0.023332</td>\n",
              "      <td>0.0707</td>\n",
              "    </tr>\n",
              "    <tr>\n",
              "      <th>3</th>\n",
              "      <td>2012-07-01</td>\n",
              "      <td>0.047386</td>\n",
              "      <td>0.023351</td>\n",
              "      <td>0.0924</td>\n",
              "    </tr>\n",
              "  </tbody>\n",
              "</table>\n",
              "</div>"
            ],
            "text/plain": [
              "       dates     hzrds    pd_fwd  pd_cum\n",
              "0 2011-01-01  0.050223  0.025000  0.0250\n",
              "1 2011-07-01  0.049200  0.024103  0.0485\n",
              "2 2012-01-01  0.046831  0.023332  0.0707\n",
              "3 2012-07-01  0.047386  0.023351  0.0924"
            ]
          },
          "metadata": {}
        },
        {
          "output_type": "stream",
          "name": "stdout",
          "text": [
            "Интенсивность в первом полугодии 2012 года = 0.0474,\n",
            "вероятность дефолта к 01-04-2012 = 8.16%\n"
          ]
        }
      ]
    },
    {
      "cell_type": "markdown",
      "metadata": {
        "id": "GOSquqL38mVZ"
      },
      "source": [
        "### Задача 4\n",
        "\n",
        "1 марта 2015 года заемщику выдан кредит объемом 24 млн. на два года. Выплаты по кредиту осуществляются 1го числа каждого месяца. В каждую выплату заемщик гасит 1/24 объема кредита и уплачивает проценты на остаток суммы долга после предыдущего платежа. Ставка по кредиту составляет 15% годовых. Конвенция счета дней act/360 (т.е. полная ставка расчитана на 360 дней, а размер платежа устанавливается пропорционально количеству фактически прошедших дней).\n",
        "\n",
        "Известно, что заемщик допустил дефолт 21 июня 2016 г. Определите EAD.\n",
        "\n",
        "(3 балла)"
      ]
    },
    {
      "cell_type": "code",
      "metadata": {
        "colab": {
          "base_uri": "https://localhost:8080/",
          "height": 1000
        },
        "id": "fwWP_dRrZTWO",
        "outputId": "e2d64201-d78c-45f5-99ce-92e0caddeba1"
      },
      "source": [
        "import numpy as np\n",
        "import pandas as pd\n",
        "import matplotlib.pyplot as plt\n",
        "from scipy import signal\n",
        "\n",
        "V = 24000 # погашение равномерное\n",
        "s = 2 # срок в годах\n",
        "r = 15 # процентная ставка в % годовых; начисление дискретное; конвенция счета дней: act/365; \n",
        "m = 12 # столько раз в год; каждые полгода (не то же самое, что каждые 182 дня)   \n",
        "\n",
        "# Составим таблицу (график) платежей\n",
        "dates_int = np.arange('2015-03-01', '2017-04-01', dtype='datetime64[1M]').astype('datetime64[D]') #даты выплат по кредиту\n",
        "\n",
        "# будем заполнять поля:\n",
        "  # terms - срок с начала кредита\n",
        "  # due - непогашенный остаток основного долга\n",
        "  # interest - сумма очередной процентной выплаты\n",
        "  # EAD - экспозиция при дефолте\n",
        "data = pd.DataFrame(np.nan, index = dates_int, columns = ['terms', 'due', 'interest',  'EAD']) \n",
        "data.iloc[0,:] = [0,  V, 0 , V] # в момент выдачи кредита EAD = объему кредита без процентов \n",
        "\n",
        "data['terms'][1:] = (dates_int[1:] - dates_int[:-1]).astype('float')/360 # срок вычисляем в годах в соответствии с конвенцией счета дней (ставка процента расчитана на 365 дней, а сумма платежа вычисляется из количества фактически прошедших дней)\n",
        "data['due'] = V \n",
        "data['due'][1:] = np.arange(V, 0, - V/24)\n",
        "data['interest'][1:] = (r/100)*np.array(data[\"due\"][1:])*data['terms'][1:]\n",
        "data['EAD'] = data['due'] + data['interest'] # EAD складывается из суммы основного долга + накопленный процент\n",
        "\n",
        "display(data)\n",
        "\n",
        "# Посмотрим на график EAD от времени. Обращаем внимание, что экспозиция снижается сразу после уплаты процента, и возрастает по мере накопленния следующего\n",
        "# Подготовим точки\n",
        "time_plt = np.repeat(data.index, 2)[1:]\n",
        "EAD_plt = np.repeat(data.EAD, 2)[1:] # локальные максимум EAD достигает в дни уплаты процента, т.е. когда сумма накопленного процента максимальна\n",
        "EAD_plt[0:-1:2] = data.due[1:] # после очередной выплаты процента EAD падает до оставшейся суммы основного долга (если кредит погашается, эта часть постепенно снижается) \n",
        "EAD_plt[-1] = 0 #если кредит погашен, то EAD становится равно 0.\n",
        "\n",
        "# Рисуем график\n",
        "plt.plot(time_plt, EAD_plt)\n",
        "plt.title('График EAD для кредита, погашаемго в конце срока и очередные проценты по которому включаеются в требования к должнику')\n",
        "\n",
        "# Определим EAD на произвольную дату\n",
        "\n",
        "dt = np.datetime64('2016-06-21') # Предположим, что дефолт объявлен 8 марта 2011 года\n",
        "# EAD будет складываться из суммы непогашенного долга с момента последнего платежа и накопленного процента пропорционально сроку прошедшего также с момента уплаты последнего платежа\n",
        "\n",
        "# Определим, в какой платежный период произошел дефолт\n",
        "n =  next((i for i in range(data.shape[0]) if data.index[i] > dt), None) \n",
        "print('Дата очередного платежа: ', data.index[n]) # дата ближайшего платежа\n",
        "accr_pr =  (dt - data.index[n-1]).days/360 # период до дефолта, за который успел накопиться очередной процент\n",
        "print('EAD на дату {:} равно {:.2f}'.format(dt, data.due[n] + data.interest[n]*accr_pr/data.terms[n]))"
      ],
      "execution_count": null,
      "outputs": [
        {
          "output_type": "stream",
          "name": "stderr",
          "text": [
            "/usr/local/lib/python3.7/dist-packages/ipykernel_launcher.py:24: SettingWithCopyWarning: \n",
            "A value is trying to be set on a copy of a slice from a DataFrame\n",
            "\n",
            "See the caveats in the documentation: https://pandas.pydata.org/pandas-docs/stable/user_guide/indexing.html#returning-a-view-versus-a-copy\n"
          ]
        },
        {
          "output_type": "display_data",
          "data": {
            "text/plain": [
              "               terms      due    interest           EAD\n",
              "2015-03-01  0.000000  24000.0    0.000000  24000.000000\n",
              "2015-04-01  0.086111  24000.0  310.000000  24310.000000\n",
              "2015-05-01  0.083333  23000.0  287.500000  23287.500000\n",
              "2015-06-01  0.086111  22000.0  284.166667  22284.166667\n",
              "2015-07-01  0.083333  21000.0  262.500000  21262.500000\n",
              "2015-08-01  0.086111  20000.0  258.333333  20258.333333\n",
              "2015-09-01  0.086111  19000.0  245.416667  19245.416667\n",
              "2015-10-01  0.083333  18000.0  225.000000  18225.000000\n",
              "2015-11-01  0.086111  17000.0  219.583333  17219.583333\n",
              "2015-12-01  0.083333  16000.0  200.000000  16200.000000\n",
              "2016-01-01  0.086111  15000.0  193.750000  15193.750000\n",
              "2016-02-01  0.086111  14000.0  180.833333  14180.833333\n",
              "2016-03-01  0.080556  13000.0  157.083333  13157.083333\n",
              "2016-04-01  0.086111  12000.0  155.000000  12155.000000\n",
              "2016-05-01  0.083333  11000.0  137.500000  11137.500000\n",
              "2016-06-01  0.086111  10000.0  129.166667  10129.166667\n",
              "2016-07-01  0.083333   9000.0  112.500000   9112.500000\n",
              "2016-08-01  0.086111   8000.0  103.333333   8103.333333\n",
              "2016-09-01  0.086111   7000.0   90.416667   7090.416667\n",
              "2016-10-01  0.083333   6000.0   75.000000   6075.000000\n",
              "2016-11-01  0.086111   5000.0   64.583333   5064.583333\n",
              "2016-12-01  0.083333   4000.0   50.000000   4050.000000\n",
              "2017-01-01  0.086111   3000.0   38.750000   3038.750000\n",
              "2017-02-01  0.086111   2000.0   25.833333   2025.833333\n",
              "2017-03-01  0.077778   1000.0   11.666667   1011.666667"
            ],
            "text/html": [
              "\n",
              "  <div id=\"df-0aa42172-96e5-4bfb-81c9-cb4af528b2bc\">\n",
              "    <div class=\"colab-df-container\">\n",
              "      <div>\n",
              "<style scoped>\n",
              "    .dataframe tbody tr th:only-of-type {\n",
              "        vertical-align: middle;\n",
              "    }\n",
              "\n",
              "    .dataframe tbody tr th {\n",
              "        vertical-align: top;\n",
              "    }\n",
              "\n",
              "    .dataframe thead th {\n",
              "        text-align: right;\n",
              "    }\n",
              "</style>\n",
              "<table border=\"1\" class=\"dataframe\">\n",
              "  <thead>\n",
              "    <tr style=\"text-align: right;\">\n",
              "      <th></th>\n",
              "      <th>terms</th>\n",
              "      <th>due</th>\n",
              "      <th>interest</th>\n",
              "      <th>EAD</th>\n",
              "    </tr>\n",
              "  </thead>\n",
              "  <tbody>\n",
              "    <tr>\n",
              "      <th>2015-03-01</th>\n",
              "      <td>0.000000</td>\n",
              "      <td>24000.0</td>\n",
              "      <td>0.000000</td>\n",
              "      <td>24000.000000</td>\n",
              "    </tr>\n",
              "    <tr>\n",
              "      <th>2015-04-01</th>\n",
              "      <td>0.086111</td>\n",
              "      <td>24000.0</td>\n",
              "      <td>310.000000</td>\n",
              "      <td>24310.000000</td>\n",
              "    </tr>\n",
              "    <tr>\n",
              "      <th>2015-05-01</th>\n",
              "      <td>0.083333</td>\n",
              "      <td>23000.0</td>\n",
              "      <td>287.500000</td>\n",
              "      <td>23287.500000</td>\n",
              "    </tr>\n",
              "    <tr>\n",
              "      <th>2015-06-01</th>\n",
              "      <td>0.086111</td>\n",
              "      <td>22000.0</td>\n",
              "      <td>284.166667</td>\n",
              "      <td>22284.166667</td>\n",
              "    </tr>\n",
              "    <tr>\n",
              "      <th>2015-07-01</th>\n",
              "      <td>0.083333</td>\n",
              "      <td>21000.0</td>\n",
              "      <td>262.500000</td>\n",
              "      <td>21262.500000</td>\n",
              "    </tr>\n",
              "    <tr>\n",
              "      <th>2015-08-01</th>\n",
              "      <td>0.086111</td>\n",
              "      <td>20000.0</td>\n",
              "      <td>258.333333</td>\n",
              "      <td>20258.333333</td>\n",
              "    </tr>\n",
              "    <tr>\n",
              "      <th>2015-09-01</th>\n",
              "      <td>0.086111</td>\n",
              "      <td>19000.0</td>\n",
              "      <td>245.416667</td>\n",
              "      <td>19245.416667</td>\n",
              "    </tr>\n",
              "    <tr>\n",
              "      <th>2015-10-01</th>\n",
              "      <td>0.083333</td>\n",
              "      <td>18000.0</td>\n",
              "      <td>225.000000</td>\n",
              "      <td>18225.000000</td>\n",
              "    </tr>\n",
              "    <tr>\n",
              "      <th>2015-11-01</th>\n",
              "      <td>0.086111</td>\n",
              "      <td>17000.0</td>\n",
              "      <td>219.583333</td>\n",
              "      <td>17219.583333</td>\n",
              "    </tr>\n",
              "    <tr>\n",
              "      <th>2015-12-01</th>\n",
              "      <td>0.083333</td>\n",
              "      <td>16000.0</td>\n",
              "      <td>200.000000</td>\n",
              "      <td>16200.000000</td>\n",
              "    </tr>\n",
              "    <tr>\n",
              "      <th>2016-01-01</th>\n",
              "      <td>0.086111</td>\n",
              "      <td>15000.0</td>\n",
              "      <td>193.750000</td>\n",
              "      <td>15193.750000</td>\n",
              "    </tr>\n",
              "    <tr>\n",
              "      <th>2016-02-01</th>\n",
              "      <td>0.086111</td>\n",
              "      <td>14000.0</td>\n",
              "      <td>180.833333</td>\n",
              "      <td>14180.833333</td>\n",
              "    </tr>\n",
              "    <tr>\n",
              "      <th>2016-03-01</th>\n",
              "      <td>0.080556</td>\n",
              "      <td>13000.0</td>\n",
              "      <td>157.083333</td>\n",
              "      <td>13157.083333</td>\n",
              "    </tr>\n",
              "    <tr>\n",
              "      <th>2016-04-01</th>\n",
              "      <td>0.086111</td>\n",
              "      <td>12000.0</td>\n",
              "      <td>155.000000</td>\n",
              "      <td>12155.000000</td>\n",
              "    </tr>\n",
              "    <tr>\n",
              "      <th>2016-05-01</th>\n",
              "      <td>0.083333</td>\n",
              "      <td>11000.0</td>\n",
              "      <td>137.500000</td>\n",
              "      <td>11137.500000</td>\n",
              "    </tr>\n",
              "    <tr>\n",
              "      <th>2016-06-01</th>\n",
              "      <td>0.086111</td>\n",
              "      <td>10000.0</td>\n",
              "      <td>129.166667</td>\n",
              "      <td>10129.166667</td>\n",
              "    </tr>\n",
              "    <tr>\n",
              "      <th>2016-07-01</th>\n",
              "      <td>0.083333</td>\n",
              "      <td>9000.0</td>\n",
              "      <td>112.500000</td>\n",
              "      <td>9112.500000</td>\n",
              "    </tr>\n",
              "    <tr>\n",
              "      <th>2016-08-01</th>\n",
              "      <td>0.086111</td>\n",
              "      <td>8000.0</td>\n",
              "      <td>103.333333</td>\n",
              "      <td>8103.333333</td>\n",
              "    </tr>\n",
              "    <tr>\n",
              "      <th>2016-09-01</th>\n",
              "      <td>0.086111</td>\n",
              "      <td>7000.0</td>\n",
              "      <td>90.416667</td>\n",
              "      <td>7090.416667</td>\n",
              "    </tr>\n",
              "    <tr>\n",
              "      <th>2016-10-01</th>\n",
              "      <td>0.083333</td>\n",
              "      <td>6000.0</td>\n",
              "      <td>75.000000</td>\n",
              "      <td>6075.000000</td>\n",
              "    </tr>\n",
              "    <tr>\n",
              "      <th>2016-11-01</th>\n",
              "      <td>0.086111</td>\n",
              "      <td>5000.0</td>\n",
              "      <td>64.583333</td>\n",
              "      <td>5064.583333</td>\n",
              "    </tr>\n",
              "    <tr>\n",
              "      <th>2016-12-01</th>\n",
              "      <td>0.083333</td>\n",
              "      <td>4000.0</td>\n",
              "      <td>50.000000</td>\n",
              "      <td>4050.000000</td>\n",
              "    </tr>\n",
              "    <tr>\n",
              "      <th>2017-01-01</th>\n",
              "      <td>0.086111</td>\n",
              "      <td>3000.0</td>\n",
              "      <td>38.750000</td>\n",
              "      <td>3038.750000</td>\n",
              "    </tr>\n",
              "    <tr>\n",
              "      <th>2017-02-01</th>\n",
              "      <td>0.086111</td>\n",
              "      <td>2000.0</td>\n",
              "      <td>25.833333</td>\n",
              "      <td>2025.833333</td>\n",
              "    </tr>\n",
              "    <tr>\n",
              "      <th>2017-03-01</th>\n",
              "      <td>0.077778</td>\n",
              "      <td>1000.0</td>\n",
              "      <td>11.666667</td>\n",
              "      <td>1011.666667</td>\n",
              "    </tr>\n",
              "  </tbody>\n",
              "</table>\n",
              "</div>\n",
              "      <button class=\"colab-df-convert\" onclick=\"convertToInteractive('df-0aa42172-96e5-4bfb-81c9-cb4af528b2bc')\"\n",
              "              title=\"Convert this dataframe to an interactive table.\"\n",
              "              style=\"display:none;\">\n",
              "        \n",
              "  <svg xmlns=\"http://www.w3.org/2000/svg\" height=\"24px\"viewBox=\"0 0 24 24\"\n",
              "       width=\"24px\">\n",
              "    <path d=\"M0 0h24v24H0V0z\" fill=\"none\"/>\n",
              "    <path d=\"M18.56 5.44l.94 2.06.94-2.06 2.06-.94-2.06-.94-.94-2.06-.94 2.06-2.06.94zm-11 1L8.5 8.5l.94-2.06 2.06-.94-2.06-.94L8.5 2.5l-.94 2.06-2.06.94zm10 10l.94 2.06.94-2.06 2.06-.94-2.06-.94-.94-2.06-.94 2.06-2.06.94z\"/><path d=\"M17.41 7.96l-1.37-1.37c-.4-.4-.92-.59-1.43-.59-.52 0-1.04.2-1.43.59L10.3 9.45l-7.72 7.72c-.78.78-.78 2.05 0 2.83L4 21.41c.39.39.9.59 1.41.59.51 0 1.02-.2 1.41-.59l7.78-7.78 2.81-2.81c.8-.78.8-2.07 0-2.86zM5.41 20L4 18.59l7.72-7.72 1.47 1.35L5.41 20z\"/>\n",
              "  </svg>\n",
              "      </button>\n",
              "      \n",
              "  <style>\n",
              "    .colab-df-container {\n",
              "      display:flex;\n",
              "      flex-wrap:wrap;\n",
              "      gap: 12px;\n",
              "    }\n",
              "\n",
              "    .colab-df-convert {\n",
              "      background-color: #E8F0FE;\n",
              "      border: none;\n",
              "      border-radius: 50%;\n",
              "      cursor: pointer;\n",
              "      display: none;\n",
              "      fill: #1967D2;\n",
              "      height: 32px;\n",
              "      padding: 0 0 0 0;\n",
              "      width: 32px;\n",
              "    }\n",
              "\n",
              "    .colab-df-convert:hover {\n",
              "      background-color: #E2EBFA;\n",
              "      box-shadow: 0px 1px 2px rgba(60, 64, 67, 0.3), 0px 1px 3px 1px rgba(60, 64, 67, 0.15);\n",
              "      fill: #174EA6;\n",
              "    }\n",
              "\n",
              "    [theme=dark] .colab-df-convert {\n",
              "      background-color: #3B4455;\n",
              "      fill: #D2E3FC;\n",
              "    }\n",
              "\n",
              "    [theme=dark] .colab-df-convert:hover {\n",
              "      background-color: #434B5C;\n",
              "      box-shadow: 0px 1px 3px 1px rgba(0, 0, 0, 0.15);\n",
              "      filter: drop-shadow(0px 1px 2px rgba(0, 0, 0, 0.3));\n",
              "      fill: #FFFFFF;\n",
              "    }\n",
              "  </style>\n",
              "\n",
              "      <script>\n",
              "        const buttonEl =\n",
              "          document.querySelector('#df-0aa42172-96e5-4bfb-81c9-cb4af528b2bc button.colab-df-convert');\n",
              "        buttonEl.style.display =\n",
              "          google.colab.kernel.accessAllowed ? 'block' : 'none';\n",
              "\n",
              "        async function convertToInteractive(key) {\n",
              "          const element = document.querySelector('#df-0aa42172-96e5-4bfb-81c9-cb4af528b2bc');\n",
              "          const dataTable =\n",
              "            await google.colab.kernel.invokeFunction('convertToInteractive',\n",
              "                                                     [key], {});\n",
              "          if (!dataTable) return;\n",
              "\n",
              "          const docLinkHtml = 'Like what you see? Visit the ' +\n",
              "            '<a target=\"_blank\" href=https://colab.research.google.com/notebooks/data_table.ipynb>data table notebook</a>'\n",
              "            + ' to learn more about interactive tables.';\n",
              "          element.innerHTML = '';\n",
              "          dataTable['output_type'] = 'display_data';\n",
              "          await google.colab.output.renderOutput(dataTable, element);\n",
              "          const docLink = document.createElement('div');\n",
              "          docLink.innerHTML = docLinkHtml;\n",
              "          element.appendChild(docLink);\n",
              "        }\n",
              "      </script>\n",
              "    </div>\n",
              "  </div>\n",
              "  "
            ]
          },
          "metadata": {}
        },
        {
          "output_type": "stream",
          "name": "stdout",
          "text": [
            "Дата очередного платежа:  2016-07-01 00:00:00\n",
            "EAD на дату 2016-06-21 равно 9075.00\n"
          ]
        },
        {
          "output_type": "display_data",
          "data": {
            "text/plain": [
              "<Figure size 432x288 with 1 Axes>"
            ],
            "image/png": "[encoded data removed]"
          },
          "metadata": {
            "needs_background": "light"
          }
        }
      ]
    },
    {
      "cell_type": "markdown",
      "source": [
        "# Задача 5\n",
        "\n",
        "Портфель трейдера имеет следующие чувствительности доходности трем рыночных факторов:\n",
        "\n",
        "- 1 к фондовому индексу\n",
        "- -0.5 к курсу евро\n",
        "- 0.43 к нефти\n",
        "\n",
        "Факторы имеют следующие волатильности (ст.отклонения доходностей):\n",
        "\n",
        "| |Индекс|Курс| Нефть|\n",
        "|:-|:-:|:-:|:-:|\n",
        "|Индекс|0.027|0.005|0.04|\n",
        "\n",
        "Индекс имеет корреляции с валютным курсом и нефтью 0.3 и -0.15 соответственно; корреляция курса и нефти 0.6.\n",
        "\n",
        "У трейдера есть возможность использовать фьючерс для хеджирования исходного портфеля. Текущая стоимость фьючерса 0, чувствительности одного контракта к фондовому индексу 10000 долларов, к курсу евро -27000 долларов. К нефти стоимость фьючера нечувствительна.\n",
        "\n",
        "Риск порфтеля оценивается VaR 99% дельта-нормальным методом.\n",
        "\n",
        "\n",
        "Чему равны: \n",
        "1. текущий риск портфеля в долларах,\n",
        "2. минимальный риск в %, которого можно добиться путем хеджирования портфеля фьючерсом.\n",
        "\n",
        "Указание: предполагать, что во фьючерсе можно занять сколь угодно дробную позицию. \n",
        "\n",
        "\n",
        "\n",
        "\n"
      ],
      "metadata": {
        "id": "bM8xGl_0Qizp"
      }
    },
    {
      "cell_type": "code",
      "source": [
        "import numpy as np\n",
        "import pandas as pd\n",
        "import scipy.stats as ss\n",
        "\n",
        "# Стоимость порфтеля\n",
        "V = 20_000 # тыс.\n",
        "\n",
        "# Уровень VaR\n",
        "level = .99\n",
        "# Чувствительности исходного порфтеля\n",
        "s = pd.Series([1, -0.5, 0.43], index = ['Inx', 'FX', 'Oil'])\n",
        "\n",
        "# Волатильности факторов\n",
        "f_vlt = pd.Series([0.027, 0.005, 0.04], index = ['Inx', 'FX', 'Oil'])\n",
        "\n",
        "# Корреляционная матрица\n",
        "f_crr  = np.array([[1, 0.3, -0.15],[0.3, 1, 0.6], [-0.15, 0.6, 1]])\n",
        "\n",
        "# Ковариационная матрица факторов\n",
        "cov = pd.DataFrame(np.diag(f_vlt) @ f_crr @ np.diag(f_vlt).T, index = ['Inx', 'FX', 'Oil'], columns = ['Inx', 'FX', 'Oil'])\n",
        "\n",
        "# Решение п. 1 - найти риск-портфеля в деньгах\n",
        "\n",
        "# Сигма доходности портфеля \n",
        "sigma_prt = np.sqrt(s @ cov @ s.T)\n",
        "\n",
        "# VaR портфеля (в % от стоимости портфеля)\n",
        "VaR_rel = sigma_prt*ss.norm.ppf(level)\n",
        "VaR_abs = VaR_rel*V\n",
        "print('''Текущий VaR 99% в %, {:.2%}\n",
        "VaR 99% в деньгах {:.2f}'''.format(VaR_rel, VaR_abs))\n",
        "\n",
        "# Решение п.2\n",
        "\n",
        "# Перейдем к чувствительностям в деньгах (в тыс. долларов)\n",
        "\n",
        "h = pd.Series([10, -27, 0], index = ['Inx', 'FX', 'Oil'])\n",
        "\n",
        "s_m = s*V # в тыс. долларов\n",
        "\n",
        "x = - (h @ cov @ s_m.T)/(h @ cov @ h.T)\n",
        "s_new = s_m + x*h\n",
        "sigma_prt = np.sqrt(s_new @ cov @ s_new.T) # сигма изменений стоимости портфеля\n",
        "VaR_abs = sigma_prt*ss.norm.ppf(level)\n",
        "VaR_rel = VaR_abs/V\n",
        "\n",
        "print('''\\nМинимальный VaR 99% в %, {:.2%}\n",
        "VaR 99% в деньгах {:.2f}'''.format(VaR_rel, VaR_abs))"
      ],
      "metadata": {
        "colab": {
          "base_uri": "https://localhost:8080/"
        },
        "id": "ML7fJuWTYGIZ",
        "outputId": "9c12122f-0c0f-49e1-8bee-c32d6e3a58d0"
      },
      "execution_count": null,
      "outputs": [
        {
          "output_type": "stream",
          "name": "stdout",
          "text": [
            "Текущий VaR 99% в %, 6.58%\n",
            "VaR 99% в деньгах 1315.71\n",
            "\n",
            "Минимальный VaR 99% в %, 5.41%\n",
            "VaR 99% в деньгах 1081.06\n"
          ]
        }
      ]
    }
  ]
}