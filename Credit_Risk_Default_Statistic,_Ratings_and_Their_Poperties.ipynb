{
  "nbformat": 4,
  "nbformat_minor": 0,
  "metadata": {
    "colab": {
      "provenance": []
    },
    "kernelspec": {
      "name": "python3",
      "display_name": "Python 3"
    },
    "language_info": {
      "name": "python"
    }
  },
  "cells": [
    {
      "cell_type": "markdown",
      "metadata": {
        "id": "IXx8ZHQe-_ck"
      },
      "source": [
        "# 2. Статистика дефолтов, рейтинги и их свойства"
      ]
    },
    {
      "cell_type": "markdown",
      "metadata": {
        "id": "UnsbMxaVzOmM"
      },
      "source": [
        "Для оценки вероятностей дефолтов требуется дополнительный инструментарий - показатель ранжирования по кредитному риску - рейтинги, скоринг, рыночные меры кредитного риска (например, спрэд облигаций).\n",
        "\n",
        "В этом курсе мы рассматриваем рейтинги - набор категорий или ступеней кредитного качества, по которым распределяются все заемщики.  \n",
        "\n",
        "Обозначать рейтинговую категорию будем $Ri$. Если $i < j$, то $Ri \\succ Rj$, т.е. кредитный риск в категории $Ri$ **ниже**, чем в категрии $Rj$.\n",
        "\n",
        "**Качественный рейтинг**:\n",
        " - монотонно ранжирует по кредитному качеству,\n",
        " - категории как можно сильнее различаются по уровню кредитного качества (что выражается в стремительном росте PD). \n",
        "\n",
        "Рассматриваем риск дефолта на горизонте $h$. \n",
        "\n",
        "| Rating | Rated at t (N) | Defaulted by t+h (D)  | Survived by t+h (S)|\n",
        "|:-------|:-------|:-------|:-------|\n",
        "| R1| 10 | 0 | 10 |\n",
        "|R2 | 20 | 1 | 19| \n",
        "|R3 | 30 | 3 | 27| \n",
        "....\n",
        "\n",
        "<font color='red'>**Замечание!!!**</font> \n",
        "\n",
        "В $N$ входят только те заемщики, для которых:\n",
        "\n",
        "* горизонт риска не меньше $h$,\n",
        "* однозначно можно определить допустил или нет дефолт заемщик (т.е. достоверно можно отнести к столбцу $D$ и $S$ на выбранном горизонте.\n",
        "\n",
        "Изменение $h$ может изменять количество наблюдений в $N$: например, рост горизонта приводит к тому, что количество наблюдений в N уменьшается, а дефолтеров растет. Т.е. структура выборки меняется."
      ]
    },
    {
      "cell_type": "code",
      "source": [
        "import numpy as np\n",
        "import pandas as pd\n",
        "import matplotlib.pyplot as plt"
      ],
      "metadata": {
        "id": "eD3ZUpbXWyfZ"
      },
      "execution_count": null,
      "outputs": []
    },
    {
      "cell_type": "code",
      "metadata": {
        "colab": {
          "base_uri": "https://localhost:8080/",
          "height": 830
        },
        "id": "YFVk-16ON6u_",
        "outputId": "e24fafec-f052-472b-aa83-e1870d2e8d7f"
      },
      "source": [
        "k = 8 # количество рейтинговых категорий, исключая дефолт\n",
        "\n",
        "# Зададим рейтинговую шкалу\n",
        "grades = ['R{}'.format(i+1) for i in range(k)] \n",
        "\n",
        "# Пусть каждой рейтинговой категории соответствует своя вероятность дефолта\n",
        "# Профиль PD монотонно возрастает\n",
        "pds = np.array([.01, 0.015, .03, .05, .10, .16, .24, .68 ])\n",
        "plt.plot(grades, 100*pds, '-s')\n",
        "plt.title('Профиль теоритических оценок PD')\n",
        "plt.ylabel('PD, в %')\n",
        "plt.grid(), plt.show()\n",
        "\n",
        "# Рассмотрим распределение заемщиков по рейтинговым категориям\n",
        "N  = np.array([10, 20, 30, 40, 50, 40, 30, 20]) \n",
        "\n",
        "# Сгенерируем дефолты\n",
        "np.random.seed(65)\n",
        "D = np.random.binomial(N, pds)\n",
        "S = N - D\n",
        "\n",
        "data = pd.DataFrame({\n",
        "                     'N': N,\n",
        "                     'D': D,\n",
        "                     'S': N - D,\n",
        "                          }, index = grades)\n",
        "display(data)\n",
        "\n",
        "# Вспомогательный код для подписей к осям\n",
        "x_1 = [i-0.25 for i in range(8)]\n",
        "x_2 = [i+0.25 for i in range(8)]\n",
        "\n",
        "# Распределение исходных наблюдения против распределения наблюдений за дефолтерам\n",
        "plt.subplot(1, 2, 1)\n",
        "plt.bar(x_1, (N/N.sum())[::-1],width=0.5, label = 'Rated entities')\n",
        "plt.bar(x_2, (D/D.sum())[::-1], width=0.5, label = 'Defaults')\n",
        "plt.title(r'F(N(t)) vs F(D(t+h))')\n",
        "plt.xticks(range(8), grades[-1::-1]), plt.grid(), plt.legend()\n",
        "# plt.show()\n",
        "\n",
        "# Распределение добросовестных заемщиков против распределения дефолтеров\n",
        "plt.subplot(1, 2, 2)\n",
        "plt.bar(x_1, (S/S.sum())[::-1],width=0.5, label = 'Survivals')\n",
        "plt.bar(x_2, (D/D.sum())[::-1],width=0.5, label = 'Defaults')\n",
        "plt.title(r'$F (S(t+h))$ vs $F( D(t+h))$')\n",
        "plt.xticks(range(8), grades[-1::-1]), plt.grid(), plt.legend()\n",
        "plt.show()\n"
      ],
      "execution_count": null,
      "outputs": [
        {
          "output_type": "display_data",
          "data": {
            "text/plain": [
              "<Figure size 432x288 with 1 Axes>"
            ],
            "image/png": "[encoded data removed]"
          },
          "metadata": {
            "needs_background": "light"
          }
        },
        {
          "output_type": "display_data",
          "data": {
            "text/plain": [
              "     N   D   S\n",
              "R1  10   0  10\n",
              "R2  20   0  20\n",
              "R3  30   0  30\n",
              "R4  40   1  39\n",
              "R5  50   4  46\n",
              "R6  40   4  36\n",
              "R7  30   8  22\n",
              "R8  20  12   8"
            ],
            "text/html": [
              "\n",
              "  <div id=\"df-cc29986b-4e5e-4861-9760-c81cf30fa6b6\">\n",
              "    <div class=\"colab-df-container\">\n",
              "      <div>\n",
              "<style scoped>\n",
              "    .dataframe tbody tr th:only-of-type {\n",
              "        vertical-align: middle;\n",
              "    }\n",
              "\n",
              "    .dataframe tbody tr th {\n",
              "        vertical-align: top;\n",
              "    }\n",
              "\n",
              "    .dataframe thead th {\n",
              "        text-align: right;\n",
              "    }\n",
              "</style>\n",
              "<table border=\"1\" class=\"dataframe\">\n",
              "  <thead>\n",
              "    <tr style=\"text-align: right;\">\n",
              "      <th></th>\n",
              "      <th>N</th>\n",
              "      <th>D</th>\n",
              "      <th>S</th>\n",
              "    </tr>\n",
              "  </thead>\n",
              "  <tbody>\n",
              "    <tr>\n",
              "      <th>R1</th>\n",
              "      <td>10</td>\n",
              "      <td>0</td>\n",
              "      <td>10</td>\n",
              "    </tr>\n",
              "    <tr>\n",
              "      <th>R2</th>\n",
              "      <td>20</td>\n",
              "      <td>0</td>\n",
              "      <td>20</td>\n",
              "    </tr>\n",
              "    <tr>\n",
              "      <th>R3</th>\n",
              "      <td>30</td>\n",
              "      <td>0</td>\n",
              "      <td>30</td>\n",
              "    </tr>\n",
              "    <tr>\n",
              "      <th>R4</th>\n",
              "      <td>40</td>\n",
              "      <td>1</td>\n",
              "      <td>39</td>\n",
              "    </tr>\n",
              "    <tr>\n",
              "      <th>R5</th>\n",
              "      <td>50</td>\n",
              "      <td>4</td>\n",
              "      <td>46</td>\n",
              "    </tr>\n",
              "    <tr>\n",
              "      <th>R6</th>\n",
              "      <td>40</td>\n",
              "      <td>4</td>\n",
              "      <td>36</td>\n",
              "    </tr>\n",
              "    <tr>\n",
              "      <th>R7</th>\n",
              "      <td>30</td>\n",
              "      <td>8</td>\n",
              "      <td>22</td>\n",
              "    </tr>\n",
              "    <tr>\n",
              "      <th>R8</th>\n",
              "      <td>20</td>\n",
              "      <td>12</td>\n",
              "      <td>8</td>\n",
              "    </tr>\n",
              "  </tbody>\n",
              "</table>\n",
              "</div>\n",
              "      <button class=\"colab-df-convert\" onclick=\"convertToInteractive('df-cc29986b-4e5e-4861-9760-c81cf30fa6b6')\"\n",
              "              title=\"Convert this dataframe to an interactive table.\"\n",
              "              style=\"display:none;\">\n",
              "        \n",
              "  <svg xmlns=\"http://www.w3.org/2000/svg\" height=\"24px\"viewBox=\"0 0 24 24\"\n",
              "       width=\"24px\">\n",
              "    <path d=\"M0 0h24v24H0V0z\" fill=\"none\"/>\n",
              "    <path d=\"M18.56 5.44l.94 2.06.94-2.06 2.06-.94-2.06-.94-.94-2.06-.94 2.06-2.06.94zm-11 1L8.5 8.5l.94-2.06 2.06-.94-2.06-.94L8.5 2.5l-.94 2.06-2.06.94zm10 10l.94 2.06.94-2.06 2.06-.94-2.06-.94-.94-2.06-.94 2.06-2.06.94z\"/><path d=\"M17.41 7.96l-1.37-1.37c-.4-.4-.92-.59-1.43-.59-.52 0-1.04.2-1.43.59L10.3 9.45l-7.72 7.72c-.78.78-.78 2.05 0 2.83L4 21.41c.39.39.9.59 1.41.59.51 0 1.02-.2 1.41-.59l7.78-7.78 2.81-2.81c.8-.78.8-2.07 0-2.86zM5.41 20L4 18.59l7.72-7.72 1.47 1.35L5.41 20z\"/>\n",
              "  </svg>\n",
              "      </button>\n",
              "      \n",
              "  <style>\n",
              "    .colab-df-container {\n",
              "      display:flex;\n",
              "      flex-wrap:wrap;\n",
              "      gap: 12px;\n",
              "    }\n",
              "\n",
              "    .colab-df-convert {\n",
              "      background-color: #E8F0FE;\n",
              "      border: none;\n",
              "      border-radius: 50%;\n",
              "      cursor: pointer;\n",
              "      display: none;\n",
              "      fill: #1967D2;\n",
              "      height: 32px;\n",
              "      padding: 0 0 0 0;\n",
              "      width: 32px;\n",
              "    }\n",
              "\n",
              "    .colab-df-convert:hover {\n",
              "      background-color: #E2EBFA;\n",
              "      box-shadow: 0px 1px 2px rgba(60, 64, 67, 0.3), 0px 1px 3px 1px rgba(60, 64, 67, 0.15);\n",
              "      fill: #174EA6;\n",
              "    }\n",
              "\n",
              "    [theme=dark] .colab-df-convert {\n",
              "      background-color: #3B4455;\n",
              "      fill: #D2E3FC;\n",
              "    }\n",
              "\n",
              "    [theme=dark] .colab-df-convert:hover {\n",
              "      background-color: #434B5C;\n",
              "      box-shadow: 0px 1px 3px 1px rgba(0, 0, 0, 0.15);\n",
              "      filter: drop-shadow(0px 1px 2px rgba(0, 0, 0, 0.3));\n",
              "      fill: #FFFFFF;\n",
              "    }\n",
              "  </style>\n",
              "\n",
              "      <script>\n",
              "        const buttonEl =\n",
              "          document.querySelector('#df-cc29986b-4e5e-4861-9760-c81cf30fa6b6 button.colab-df-convert');\n",
              "        buttonEl.style.display =\n",
              "          google.colab.kernel.accessAllowed ? 'block' : 'none';\n",
              "\n",
              "        async function convertToInteractive(key) {\n",
              "          const element = document.querySelector('#df-cc29986b-4e5e-4861-9760-c81cf30fa6b6');\n",
              "          const dataTable =\n",
              "            await google.colab.kernel.invokeFunction('convertToInteractive',\n",
              "                                                     [key], {});\n",
              "          if (!dataTable) return;\n",
              "\n",
              "          const docLinkHtml = 'Like what you see? Visit the ' +\n",
              "            '<a target=\"_blank\" href=https://colab.research.google.com/notebooks/data_table.ipynb>data table notebook</a>'\n",
              "            + ' to learn more about interactive tables.';\n",
              "          element.innerHTML = '';\n",
              "          dataTable['output_type'] = 'display_data';\n",
              "          await google.colab.output.renderOutput(dataTable, element);\n",
              "          const docLink = document.createElement('div');\n",
              "          docLink.innerHTML = docLinkHtml;\n",
              "          element.appendChild(docLink);\n",
              "        }\n",
              "      </script>\n",
              "    </div>\n",
              "  </div>\n",
              "  "
            ]
          },
          "metadata": {}
        },
        {
          "output_type": "display_data",
          "data": {
            "text/plain": [
              "<Figure size 432x288 with 2 Axes>"
            ],
            "image/png": "[encoded data removed]"
          },
          "metadata": {
            "needs_background": "light"
          }
        }
      ]
    },
    {
      "cell_type": "markdown",
      "source": [
        "## Дискриминационная способность рейтингов\n",
        "\n",
        "Графические инструменты:\n",
        "\n",
        "- Cumulative Accuracy Profile (CAP)\n",
        "- Receiver Operating Characteristic (ROC)\n",
        "\n",
        "Количественные меры:\n",
        "\n",
        "- Area Under Curve (AUC)\n",
        "- Accuracy Ratio (AR or Gini coefficient)"
      ],
      "metadata": {
        "id": "dGAiR3VyWwOk"
      }
    },
    {
      "cell_type": "code",
      "source": [
        "def cap_roc_data(data):\n",
        "  '''\n",
        "  data.N - количество заемщиков в каждой категории на начало периода в порядке улучшения рейтинга\n",
        "  data.D - количество дефолтов в каждой категории на конец периода в порядке улучшения рейтинга\n",
        "  data.S - количество \"выживших\" в каждой категории на конец периода в порядке улучшения рейтинга\n",
        "\n",
        "  ppr - Population Positive Rate (доля рейтингов ниже определенного уровня или значение функции распределения заемщиков относительно рейтинговой шкалы F(N))\n",
        "  tpr - True Positive Rate (доля дефолтеров, попавших в рейтинги ниже определенного уровня, или значение функции распределения дефолтеров относительно рейтинговой шкалы F(D))\n",
        "  tpr - False Positive Rate (доля \"выживших\", попавших в рейтинги ниже определенного уровня, или значение функции распределения выживших относительно рейтинговой шкалы F(S))\n",
        "  '''\n",
        "  data = data[::-1]\n",
        "  N, D, S = np.insert(data.N.values, 0, 0), np.insert(data.D.values, 0, 0), np.insert(data.S.values, 0, 0)\n",
        "  ppr, tpr, fpr = N.cumsum()/N.sum(), D.cumsum()/D.sum(), S.cumsum()/S.sum() # F(N), F(D), F(S)\n",
        "  return ppr, tpr, fpr "
      ],
      "metadata": {
        "id": "uwRJ90rDatXj"
      },
      "execution_count": null,
      "outputs": []
    },
    {
      "cell_type": "code",
      "source": [
        "# Обработаем данные для построения \n",
        "display(data)\n",
        "emp_ppr, emp_tpr, emp_fpr = cap_roc_data(data)\n",
        "\n",
        "data_thr = pd.DataFrame({\n",
        "    'N': data.N.values,\n",
        "    'D': data.N.values*pds,\n",
        "    'S': data.N.values*(1 - pds)\n",
        "})\n",
        "thr_ppr, thr_tpr, thr_fpr = cap_roc_data(data_thr)"
      ],
      "metadata": {
        "colab": {
          "base_uri": "https://localhost:8080/",
          "height": 300
        },
        "id": "DCIhXwX3dTQ5",
        "outputId": "26889e2a-f43f-43f6-d71a-38a3cae01bff"
      },
      "execution_count": null,
      "outputs": [
        {
          "output_type": "display_data",
          "data": {
            "text/plain": [
              "     N   D   S\n",
              "R1  10   0  10\n",
              "R2  20   0  20\n",
              "R3  30   0  30\n",
              "R4  40   1  39\n",
              "R5  50   4  46\n",
              "R6  40   4  36\n",
              "R7  30   8  22\n",
              "R8  20  12   8"
            ],
            "text/html": [
              "\n",
              "  <div id=\"df-2aff43c3-4a4e-4138-baff-77f142999a87\">\n",
              "    <div class=\"colab-df-container\">\n",
              "      <div>\n",
              "<style scoped>\n",
              "    .dataframe tbody tr th:only-of-type {\n",
              "        vertical-align: middle;\n",
              "    }\n",
              "\n",
              "    .dataframe tbody tr th {\n",
              "        vertical-align: top;\n",
              "    }\n",
              "\n",
              "    .dataframe thead th {\n",
              "        text-align: right;\n",
              "    }\n",
              "</style>\n",
              "<table border=\"1\" class=\"dataframe\">\n",
              "  <thead>\n",
              "    <tr style=\"text-align: right;\">\n",
              "      <th></th>\n",
              "      <th>N</th>\n",
              "      <th>D</th>\n",
              "      <th>S</th>\n",
              "    </tr>\n",
              "  </thead>\n",
              "  <tbody>\n",
              "    <tr>\n",
              "      <th>R1</th>\n",
              "      <td>10</td>\n",
              "      <td>0</td>\n",
              "      <td>10</td>\n",
              "    </tr>\n",
              "    <tr>\n",
              "      <th>R2</th>\n",
              "      <td>20</td>\n",
              "      <td>0</td>\n",
              "      <td>20</td>\n",
              "    </tr>\n",
              "    <tr>\n",
              "      <th>R3</th>\n",
              "      <td>30</td>\n",
              "      <td>0</td>\n",
              "      <td>30</td>\n",
              "    </tr>\n",
              "    <tr>\n",
              "      <th>R4</th>\n",
              "      <td>40</td>\n",
              "      <td>1</td>\n",
              "      <td>39</td>\n",
              "    </tr>\n",
              "    <tr>\n",
              "      <th>R5</th>\n",
              "      <td>50</td>\n",
              "      <td>4</td>\n",
              "      <td>46</td>\n",
              "    </tr>\n",
              "    <tr>\n",
              "      <th>R6</th>\n",
              "      <td>40</td>\n",
              "      <td>4</td>\n",
              "      <td>36</td>\n",
              "    </tr>\n",
              "    <tr>\n",
              "      <th>R7</th>\n",
              "      <td>30</td>\n",
              "      <td>8</td>\n",
              "      <td>22</td>\n",
              "    </tr>\n",
              "    <tr>\n",
              "      <th>R8</th>\n",
              "      <td>20</td>\n",
              "      <td>12</td>\n",
              "      <td>8</td>\n",
              "    </tr>\n",
              "  </tbody>\n",
              "</table>\n",
              "</div>\n",
              "      <button class=\"colab-df-convert\" onclick=\"convertToInteractive('df-2aff43c3-4a4e-4138-baff-77f142999a87')\"\n",
              "              title=\"Convert this dataframe to an interactive table.\"\n",
              "              style=\"display:none;\">\n",
              "        \n",
              "  <svg xmlns=\"http://www.w3.org/2000/svg\" height=\"24px\"viewBox=\"0 0 24 24\"\n",
              "       width=\"24px\">\n",
              "    <path d=\"M0 0h24v24H0V0z\" fill=\"none\"/>\n",
              "    <path d=\"M18.56 5.44l.94 2.06.94-2.06 2.06-.94-2.06-.94-.94-2.06-.94 2.06-2.06.94zm-11 1L8.5 8.5l.94-2.06 2.06-.94-2.06-.94L8.5 2.5l-.94 2.06-2.06.94zm10 10l.94 2.06.94-2.06 2.06-.94-2.06-.94-.94-2.06-.94 2.06-2.06.94z\"/><path d=\"M17.41 7.96l-1.37-1.37c-.4-.4-.92-.59-1.43-.59-.52 0-1.04.2-1.43.59L10.3 9.45l-7.72 7.72c-.78.78-.78 2.05 0 2.83L4 21.41c.39.39.9.59 1.41.59.51 0 1.02-.2 1.41-.59l7.78-7.78 2.81-2.81c.8-.78.8-2.07 0-2.86zM5.41 20L4 18.59l7.72-7.72 1.47 1.35L5.41 20z\"/>\n",
              "  </svg>\n",
              "      </button>\n",
              "      \n",
              "  <style>\n",
              "    .colab-df-container {\n",
              "      display:flex;\n",
              "      flex-wrap:wrap;\n",
              "      gap: 12px;\n",
              "    }\n",
              "\n",
              "    .colab-df-convert {\n",
              "      background-color: #E8F0FE;\n",
              "      border: none;\n",
              "      border-radius: 50%;\n",
              "      cursor: pointer;\n",
              "      display: none;\n",
              "      fill: #1967D2;\n",
              "      height: 32px;\n",
              "      padding: 0 0 0 0;\n",
              "      width: 32px;\n",
              "    }\n",
              "\n",
              "    .colab-df-convert:hover {\n",
              "      background-color: #E2EBFA;\n",
              "      box-shadow: 0px 1px 2px rgba(60, 64, 67, 0.3), 0px 1px 3px 1px rgba(60, 64, 67, 0.15);\n",
              "      fill: #174EA6;\n",
              "    }\n",
              "\n",
              "    [theme=dark] .colab-df-convert {\n",
              "      background-color: #3B4455;\n",
              "      fill: #D2E3FC;\n",
              "    }\n",
              "\n",
              "    [theme=dark] .colab-df-convert:hover {\n",
              "      background-color: #434B5C;\n",
              "      box-shadow: 0px 1px 3px 1px rgba(0, 0, 0, 0.15);\n",
              "      filter: drop-shadow(0px 1px 2px rgba(0, 0, 0, 0.3));\n",
              "      fill: #FFFFFF;\n",
              "    }\n",
              "  </style>\n",
              "\n",
              "      <script>\n",
              "        const buttonEl =\n",
              "          document.querySelector('#df-2aff43c3-4a4e-4138-baff-77f142999a87 button.colab-df-convert');\n",
              "        buttonEl.style.display =\n",
              "          google.colab.kernel.accessAllowed ? 'block' : 'none';\n",
              "\n",
              "        async function convertToInteractive(key) {\n",
              "          const element = document.querySelector('#df-2aff43c3-4a4e-4138-baff-77f142999a87');\n",
              "          const dataTable =\n",
              "            await google.colab.kernel.invokeFunction('convertToInteractive',\n",
              "                                                     [key], {});\n",
              "          if (!dataTable) return;\n",
              "\n",
              "          const docLinkHtml = 'Like what you see? Visit the ' +\n",
              "            '<a target=\"_blank\" href=https://colab.research.google.com/notebooks/data_table.ipynb>data table notebook</a>'\n",
              "            + ' to learn more about interactive tables.';\n",
              "          element.innerHTML = '';\n",
              "          dataTable['output_type'] = 'display_data';\n",
              "          await google.colab.output.renderOutput(dataTable, element);\n",
              "          const docLink = document.createElement('div');\n",
              "          docLink.innerHTML = docLinkHtml;\n",
              "          element.appendChild(docLink);\n",
              "        }\n",
              "      </script>\n",
              "    </div>\n",
              "  </div>\n",
              "  "
            ]
          },
          "metadata": {}
        }
      ]
    },
    {
      "cell_type": "code",
      "metadata": {
        "colab": {
          "base_uri": "https://localhost:8080/",
          "height": 313
        },
        "id": "m7G5RNdHOZ8X",
        "outputId": "37caf701-1193-44c6-a2a5-8701a0e97fbb"
      },
      "source": [
        "# Построим CAP- кривую (эмпирическую и теоретическию):\n",
        "plt.title('CAP - curve')\n",
        "plt.grid()\n",
        "plt.plot(emp_ppr, emp_tpr, '--*b', label = 'EmpCAP')\n",
        "plt.plot(thr_ppr, thr_tpr, '--*m', label = 'ThrCAP')\n",
        "plt.plot([0, 1], [0, 1], '--*r', label = 'RandomCAP')\n",
        "plt.plot([0, data.D.sum()/data.N.sum() ,1], [0, 1, 1], '--*g',label = 'PerfectCAP')\n",
        "plt.xlim([0,1.05]), plt.xlabel('PPR'), plt.ylabel('TPR')\n",
        "plt.ylim([0,1.05])\n",
        "plt.legend()"
      ],
      "execution_count": null,
      "outputs": [
        {
          "output_type": "execute_result",
          "data": {
            "text/plain": [
              "<matplotlib.legend.Legend at 0x7fd14b3f7e90>"
            ]
          },
          "metadata": {},
          "execution_count": 35
        },
        {
          "output_type": "display_data",
          "data": {
            "text/plain": [
              "<Figure size 432x288 with 1 Axes>"
            ],
            "image/png": "[encoded data removed]"
          },
          "metadata": {
            "needs_background": "light"
          }
        }
      ]
    },
    {
      "cell_type": "code",
      "source": [
        "# Построим ROC- кривую (эмпирическую и теоретическию):\n",
        "plt.title('ROC - curve')\n",
        "plt.grid()\n",
        "plt.plot(emp_fpr, emp_tpr, '--*b', label = 'EmpROC')\n",
        "plt.plot(thr_fpr, thr_tpr, '--*m', label = 'ThrROC')\n",
        "plt.plot([0, 1], [0, 1], '--*r', label = 'RandomROC')\n",
        "plt.plot([0, 0 ,1], [0, 1, 1], '--*g',label = 'PerfectROC')\n",
        "plt.xlim([0,1.05]), plt.xlabel('FPR'), plt.ylabel('TPR')\n",
        "plt.ylim([0,1.05])\n",
        "plt.legend()"
      ],
      "metadata": {
        "colab": {
          "base_uri": "https://localhost:8080/",
          "height": 313
        },
        "id": "-ePX0rQmdWOE",
        "outputId": "1a3dc5ee-3a35-4893-bb77-ea98dd31f3ca"
      },
      "execution_count": null,
      "outputs": [
        {
          "output_type": "execute_result",
          "data": {
            "text/plain": [
              "<matplotlib.legend.Legend at 0x7fd14aefcad0>"
            ]
          },
          "metadata": {},
          "execution_count": 36
        },
        {
          "output_type": "display_data",
          "data": {
            "text/plain": [
              "<Figure size 432x288 with 1 Axes>"
            ],
            "image/png": "[encoded data removed]"
          },
          "metadata": {
            "needs_background": "light"
          }
        }
      ]
    },
    {
      "cell_type": "markdown",
      "metadata": {
        "id": "XjZiJbD5VIZh"
      },
      "source": [
        "Разделяющую способность можно рейтинговой модели можно оценить с помощью показателей AUC (area under curve) и AR (accuracy ratio, Gini).\n",
        "\n",
        "Для CAP-кривой:\n",
        "\n",
        "$$AUC_{CAP} = 0.5\\sum\\limits_{i=0,..,k-1}(TPR_{i+1} + TPR_i)(PPR_{i+1} -PPR_i)$$\n",
        "$$DR = \\frac{\\sum_i{D_i}}{\\sum_i{N_i}}$$\n",
        "$$ AR_{CAP} = \\frac{AUC_{CAP} - 0.5}{AUC_{PerfectCAP} -0.5} =  \\frac{AUC - 0.5}{0.5(1- DR)} = \\frac{2AUC_{CAP} - 1}{1- DR}$$\n",
        "\n",
        "Для ROC-кривой:\n",
        "\n",
        "$$AUC_{ROC}= 0.5\\sum\\limits_{i=0,..,k-1}(TPR_{i+1} + TPR_i)(FPR_{i+1} -FPR_i)$$\n",
        "$$ AR_{ROC} = \\frac{AUC_{ROC} - 0.5}{AUC_{PerfectROC} -0.5} = 2AUC_{ROC} - 1$$"
      ]
    },
    {
      "cell_type": "code",
      "metadata": {
        "colab": {
          "base_uri": "https://localhost:8080/"
        },
        "id": "9_oyP9zlVKiZ",
        "outputId": "f5baee60-072c-4022-f22f-857b2be67c5e"
      },
      "source": [
        "# Вычислим AUC и AR (Gini) по CAP\n",
        "emp_dr, thr_dr  =  D.sum()/N.sum(), (N*pds).sum()/N.sum() \n",
        "\n",
        "emp_auc, thr_auc = 0.5 * (emp_tpr[1:] + emp_tpr[:-1])@(emp_ppr[1:] - emp_ppr[:-1]), 0.5 * (thr_tpr[1:] + thr_tpr[:-1])@(thr_ppr[1:] - thr_ppr[:-1])\n",
        "emp_ar, thr_ar = (2*emp_auc - 1)/(1 - D.sum()/N.sum()), (2*thr_auc - 1)/(1 - (N*pds).sum()/N.sum())\n",
        "\n",
        "print( 'Эмпирический DR = {:.2%},  эмпирический AUC = {:.3f},  эмпирический AR = {:.2%}\\n'.format(emp_dr, emp_auc, emp_ar))\n",
        "print('Теоретический DR = {:.2%}, теоретический AUC = {:.3f}, теоретический AR = {:.2%}'.format(thr_dr, thr_auc, thr_ar))\n"
      ],
      "execution_count": null,
      "outputs": [
        {
          "output_type": "stream",
          "name": "stdout",
          "text": [
            "Эмпирический DR = 12.08%,  эмпирический AUC = 0.813,  эмпирический AR = 71.25%\n",
            "\n",
            "Теоретический DR = 14.79%, теоретический AUC = 0.766, теоретический AR = 62.37%\n"
          ]
        }
      ]
    },
    {
      "cell_type": "code",
      "source": [
        "# Вычислим AUC и AR (Gini) по ROC\n",
        "emp_auc, thr_auc = 0.5 * (emp_tpr[1:] + emp_tpr[:-1])@(emp_fpr[1:] - emp_fpr[:-1]), 0.5 * (thr_tpr[1:] + thr_tpr[:-1])@(thr_fpr[1:] - thr_fpr[:-1])\n",
        "emp_ar, thr_ar = (2*emp_auc - 1), (2*thr_auc - 1)\n",
        "\n",
        "print( 'Эмпирический AUC = {:.3f},  эмпирический AR = {:.2%}\\n'.format(emp_auc, emp_ar))\n",
        "print('Теоретический AUC = {:.3f}, теоретический AR = {:.2%}'.format(thr_auc, thr_ar))\n"
      ],
      "metadata": {
        "colab": {
          "base_uri": "https://localhost:8080/"
        },
        "id": "o_pUu8UhgGWi",
        "outputId": "894651c5-3c75-4a8f-a654-6e91bba0a044"
      },
      "execution_count": null,
      "outputs": [
        {
          "output_type": "stream",
          "name": "stdout",
          "text": [
            "Эмпирический AUC = 0.856,  эмпирический AR = 71.25%\n",
            "\n",
            "Теоретический AUC = 0.812, теоретический AR = 62.37%\n"
          ]
        }
      ]
    }
  ]
}